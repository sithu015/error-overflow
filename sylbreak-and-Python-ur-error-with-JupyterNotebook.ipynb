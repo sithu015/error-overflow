{
 "cells": [
  {
   "cell_type": "markdown",
   "metadata": {},
   "source": [
    "# Using Sylbreak with Jupyter Notebook\n",
    "\n",
    "ဒီ Jupyter Notebook က GitHub မှာ ကျွန်တော်တင်ပေးထားတဲ့ Sylbreak Python ပရိုဂရမ် [https://github.com/ye-kyaw-thu/sylbreak/blob/master/python/sylbreak.py](https://github.com/ye-kyaw-thu/sylbreak/blob/master/python/sylbreak.py) ကို Jupyter Notebook, Python 3 Kernel မှာ copy ကူးပြီးသုံးတဲ့အခါမှာ တွေ့နိုင်တဲ့ error နဲ့ solution ကို နမူနာအနေနဲ့ ပြသထားတာ ဖြစ်ပါတယ်။  \n",
    "\n",
    "အောက်ပါ Python code က sylbreak.py ထဲက ယူထားတာဖြစ်ပါတယ်။  \n",
    "ဒီနေရာမှာတော့ မြန်မာစာကို syllable unit အနေနဲ့ ဖြတ်ပေးဖို့အတွက် လိုအပ်တဲ့ အပိုင်းကိုပဲ ယူထားတာဖြစ်ပြီးတော့၊ function တစ်ခုအနေနဲ့ ဆောက်ထားတာပါ။  \n",
    "\n",
    "statement အသစ်ရေးထားတဲ့ line = re.sub(ur\"\\s+\",\"\", line) ဆိုတာကတော့ function ကို pass လုပ်လိုက်တဲ့ စာကြောင်းကို space ဖယ်တဲ့ လိုင်းပါ။    "
   ]
  },
  {
   "cell_type": "code",
   "execution_count": 1,
   "metadata": {},
   "outputs": [
    {
     "ename": "SyntaxError",
     "evalue": "invalid syntax (<ipython-input-1-a1f5ba8fedd0>, line 4)",
     "output_type": "error",
     "traceback": [
      "\u001b[0;36m  File \u001b[0;32m\"<ipython-input-1-a1f5ba8fedd0>\"\u001b[0;36m, line \u001b[0;32m4\u001b[0m\n\u001b[0;31m    myConsonant = ur\"က-အ\"\u001b[0m\n\u001b[0m                        ^\u001b[0m\n\u001b[0;31mSyntaxError\u001b[0m\u001b[0;31m:\u001b[0m invalid syntax\n"
     ]
    }
   ],
   "source": [
    "# Syllable Segmentation for Myanmar language\n",
    "import re\n",
    "\n",
    "myConsonant = ur\"က-အ\"\n",
    "enChar = ur\"a-zA-Z0-9\"\n",
    "otherChar = ur\"ဣဤဥဦဧဩဪဿ၌၍၏၀-၉၊။!-/:-@[-`{-~\\s\"\n",
    "ssSymbol = ur'္'\n",
    "ngaThat = ur'င်'\n",
    "aThat = ur'်'\n",
    "\n",
    "#Regular expression pattern for Myanmar syllable breaking\n",
    "#*** a consonant not after a subscript symbol AND a consonant is not followed by a-That character or a subscript symbol\n",
    "BreakPattern = re.compile(ur\"((?<!\" + ssSymbol + ur\")[\"+ myConsonant + ur\"](?![\" + aThat + ssSymbol + ur\"])\" + ur\"|[\" + enChar + otherChar + ur\"])\", re.UNICODE)\n",
    "\n",
    "def sylbreak(line):\n",
    "       line = re.sub(ur\"\\s+\",\"\", line)\n",
    "       line = BreakPattern.sub(ur\" \" + ur\"\\1\", line)\n",
    "       return line"
   ]
  },
  {
   "cell_type": "markdown",
   "metadata": {},
   "source": [
    "အထက်ပါ cell ကို \"Ctrl+Enter\" (သို့) \"Shift+Enter\" နဲ့ run တဲ့အခါမှာ error ပေးပါလိမ့်မယ်။  \n",
    "အကြောင်းအရင်းက string တွေရဲ့ ရှေ့မှာ ဖြည့်ရေးထားတဲ့ \"ur\" ကြောင့်ပါ။  \n",
    "Python 3.4 မှာ u (Unicode) နဲ့ r (raw text) ကို တစ်လုံးချင်းစီသုံးတာကို support လုပ်ပေမဲ့၊ \"ur\" ဆိုပြီးတွဲသုံးတာကို support မလုပ်တော့လို့ပါ။  \n",
    "\n",
    "အဲဒါကြောင့် \"ur\" အစား \"r\" တစ်ခုတည်းပဲ သုံးပါ။ အဲဒါဆိုရင် အလုပ်လုပ်ပေးပါလိမ့်မယ်။  \n",
    "အောက်ပါ code က run လို့ရအောင်ပြင်ရေးထားတဲ့ Python code ပါ။   "
   ]
  },
  {
   "cell_type": "code",
   "execution_count": 2,
   "metadata": {},
   "outputs": [],
   "source": [
    "# Syllable Segmentation for Myanmar language\n",
    "import re\n",
    "\n",
    "myConsonant = \"က-အ\"\n",
    "enChar = \"a-zA-Z0-9\"\n",
    "otherChar = \"ဣဤဥဦဧဩဪဿ၌၍၏၀-၉၊။!-/:-@[-`{-~\\s\"\n",
    "ssSymbol = '္'\n",
    "ngaThat = 'င်'\n",
    "aThat = '်'\n",
    "\n",
    "#Regular expression pattern for Myanmar syllable breaking\n",
    "#*** a consonant not after a subscript symbol AND a consonant is not followed by a-That character or a subscript symbol\n",
    "BreakPattern = re.compile(r\"((?<!\" + ssSymbol + r\")[\"+ myConsonant + r\"](?![\" + aThat + ssSymbol + r\"])\" + r\"|[\" + enChar + otherChar + r\"])\", re.UNICODE)\n",
    "\n",
    "def sylbreak(line):\n",
    "       line = re.sub(r\"\\s+\",\"\", line)\n",
    "       line = BreakPattern.sub(r\" \" + r\"\\1\", line)\n",
    "       return line"
   ]
  },
  {
   "cell_type": "code",
   "execution_count": 3,
   "metadata": {},
   "outputs": [
    {
     "data": {
      "text/plain": [
       "' မြန် မာ စာ သည် တို့ စာ ။ တို့ စာ ကို သု တေ သ န လုပ် ပါ ။'"
      ]
     },
     "execution_count": 3,
     "metadata": {},
     "output_type": "execute_result"
    }
   ],
   "source": [
    "# sylbreak function ကိုခေါ်သုံးကြည့်ရအောင်\n",
    "\n",
    "sylbreak(\"မြန်မာစာသည် တို့စာ။ တို့စာကို သုတေသန လုပ်ပါ။\")"
   ]
  },
  {
   "cell_type": "markdown",
   "metadata": {},
   "source": [
    "# Reference\n",
    "\n",
    "[https://stackoverflow.com/questions/26063899/python-version-3-4-does-not-support-a-ur-prefix](https://stackoverflow.com/questions/26063899/python-version-3-4-does-not-support-a-ur-prefix)\n",
    "\n",
    "[sylbreak နဲ့ ပတ်သတ်ပြီးအသေးစိတ်သိချင်သူများအတွက် လင့်(ခ်)](https://github.com/ye-kyaw-thu/sylbreak/)  "
   ]
  }
 ],
 "metadata": {
  "kernelspec": {
   "display_name": "Python 3",
   "language": "python",
   "name": "python3"
  },
  "language_info": {
   "codemirror_mode": {
    "name": "ipython",
    "version": 3
   },
   "file_extension": ".py",
   "mimetype": "text/x-python",
   "name": "python",
   "nbconvert_exporter": "python",
   "pygments_lexer": "ipython3",
   "version": "3.6.5"
  }
 },
 "nbformat": 4,
 "nbformat_minor": 2
}
